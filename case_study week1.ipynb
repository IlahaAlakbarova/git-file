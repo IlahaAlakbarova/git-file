{
 "cells": [
  {
   "cell_type": "code",
   "execution_count": 15,
   "metadata": {},
   "outputs": [
    {
     "name": "stdout",
     "output_type": "stream",
     "text": [
      "Enter first number: 5\n",
      "Enter second number: 6\n"
     ]
    },
    {
     "data": {
      "text/plain": [
       "{'sum': 11, 'numbers': (5, 6)}"
      ]
     },
     "execution_count": 15,
     "metadata": {},
     "output_type": "execute_result"
    }
   ],
   "source": [
    "# 1.Create a function called \"addition_2number\" that takes two input numbers from user\n",
    "# and returns sum and count of them.\n",
    "\n",
    "def addition_2number():\n",
    "    a = int(input('Enter first number: '))\n",
    "    b = int(input('Enter second number: '))\n",
    "    \n",
    "    return {\"sum\": a+b,\n",
    "            \"numbers\": (a,b)}\n",
    "\n",
    "addition_2number()"
   ]
  },
  {
   "cell_type": "code",
   "execution_count": 1,
   "metadata": {},
   "outputs": [
    {
     "name": "stdout",
     "output_type": "stream",
     "text": [
      "hello\n"
     ]
    }
   ],
   "source": [
    "print('hello')"
   ]
  },
  {
   "cell_type": "code",
   "execution_count": 1,
   "metadata": {},
   "outputs": [
    {
     "name": "stdout",
     "output_type": "stream",
     "text": [
      "my world\n"
     ]
    }
   ],
   "source": [
    "print('my world')"
   ]
  },
  {
   "cell_type": "code",
   "execution_count": 5,
   "metadata": {},
   "outputs": [
    {
     "name": "stdout",
     "output_type": "stream",
     "text": [
      "Enter a number: 4\n",
      "Enter a number: 5\n",
      "Enter a number: 6\n",
      "Enter a number: 7\n",
      "Enter a number: 8\n",
      "Enter a number: 0\n"
     ]
    },
    {
     "data": {
      "text/plain": [
       "(30, 5)"
      ]
     },
     "execution_count": 5,
     "metadata": {},
     "output_type": "execute_result"
    }
   ],
   "source": [
    "#2. Create a function called \"addition\" that can add two or more numbers till user enters\n",
    "#zero and returns answer and count of input numbers in a list.\n",
    "\n",
    "def addition():\n",
    "    l = []\n",
    "    while True:\n",
    "        n = int(input(\"Enter a number: \"))\n",
    "        if n!=0:\n",
    "            l.append(n)\n",
    "        else: break\n",
    "    return sum(l), len(l)\n",
    "        \n",
    "addition()"
   ]
  },
  {
   "cell_type": "code",
   "execution_count": 7,
   "metadata": {},
   "outputs": [
    {
     "name": "stdout",
     "output_type": "stream",
     "text": [
      "Enter a number: 5\n",
      "Enter a number: 6\n",
      "Enter a number: -11\n",
      "Enter a number: 0\n"
     ]
    },
    {
     "data": {
      "text/plain": [
       "(0, 3)"
      ]
     },
     "execution_count": 7,
     "metadata": {},
     "output_type": "execute_result"
    }
   ],
   "source": [
    "#3. Create a function called \"subtraction\" that can subtract two or more numbers till user\n",
    "#enters zero and returns answer and countof input numbers in a list.\n",
    "\n",
    "def subtraction():\n",
    "    l = []\n",
    "    sub = 0\n",
    "    while True:\n",
    "        n = int(input(\"Enter a number: \"))\n",
    "        if n!=0:\n",
    "            l.append(n)\n",
    "            sub-=n\n",
    "        else: break\n",
    "    return sub, len(l)\n",
    "\n",
    "\n",
    "subtraction()"
   ]
  },
  {
   "cell_type": "code",
   "execution_count": 8,
   "metadata": {},
   "outputs": [
    {
     "name": "stdout",
     "output_type": "stream",
     "text": [
      "Enter a number: 1\n",
      "Enter a number: 2\n",
      "Enter a number: 3\n",
      "Enter a number: 4\n",
      "Enter a number: 0\n"
     ]
    },
    {
     "data": {
      "text/plain": [
       "(24, 4)"
      ]
     },
     "execution_count": 8,
     "metadata": {},
     "output_type": "execute_result"
    }
   ],
   "source": [
    "#4. Create a function called \"multiplication\" that can multiply two or more numbers till\n",
    "#user enters zero and returns answer and count of input numbers in a list.\n",
    "def multiplication():\n",
    "    l = []\n",
    "    mul = 1\n",
    "    while True:\n",
    "        n = int(input(\"Enter a number: \"))\n",
    "        if n!=0:\n",
    "            l.append(n)\n",
    "            mul*=n\n",
    "        else: break\n",
    "            \n",
    "    return mul, len(l)\n",
    "\n",
    "multiplication()"
   ]
  },
  {
   "cell_type": "code",
   "execution_count": 9,
   "metadata": {},
   "outputs": [
    {
     "name": "stdout",
     "output_type": "stream",
     "text": [
      "Enter a number: 2\n",
      "Enter a number: 3\n",
      "Enter a number: 4\n",
      "Enter a number: 5\n",
      "Enter a number: 0\n"
     ]
    },
    {
     "data": {
      "text/plain": [
       "3.5"
      ]
     },
     "execution_count": 9,
     "metadata": {},
     "output_type": "execute_result"
    }
   ],
   "source": [
    "#5. Create a function called “average” that returns mean of “addition” function.\n",
    "def average():\n",
    "    s,n = addition()\n",
    "    return s/n\n",
    "\n",
    "average()"
   ]
  },
  {
   "cell_type": "code",
   "execution_count": 17,
   "metadata": {},
   "outputs": [
    {
     "name": "stdout",
     "output_type": "stream",
     "text": [
      "-----Select the operation you want to do-----\n",
      "\n",
      "        1. Addition\n",
      "        2. Subtraction\n",
      "        3. Multiplication\n",
      "    \n",
      "---------------------------------------------\n",
      "Operation id: 3\n",
      "Enter a number: 5\n",
      "Enter a number: 6\n",
      "Enter a number: 0\n",
      "30\n"
     ]
    }
   ],
   "source": [
    "#6. Create a simple calculator that asks user to perform operations among created functions.\n",
    "\n",
    "print('-----Select the operation you want to do-----')\n",
    "print('''\n",
    "        1. Addition\n",
    "        2. Subtraction\n",
    "        3. Multiplication\n",
    "    ''')\n",
    "print('---------------------------------------------')\n",
    "while True:\n",
    "    opcode = int(input(\"Operation id: \"))\n",
    "    if opcode not in [1,2,3]:\n",
    "        print('Please select valid operation.')\n",
    "    else:\n",
    "        break\n",
    "        \n",
    "if opcode==1:\n",
    "    print(addition()[0])\n",
    "elif opcode==2:\n",
    "    print(subtraction()[0])\n",
    "elif opcode ==3:\n",
    "    print(multiplication()[0])\n"
   ]
  },
  {
   "cell_type": "code",
   "execution_count": 18,
   "metadata": {},
   "outputs": [
    {
     "name": "stdout",
     "output_type": "stream",
     "text": [
      "{3, 4}\n"
     ]
    }
   ],
   "source": [
    "#7. Write a Python program to find intersection of two given arrays using lambda.\n",
    "intersct = lambda a,b: set(a).intersection(set(b))\n",
    "\n",
    "print(intersct([1,2,3,4],[4,5,3]))"
   ]
  },
  {
   "cell_type": "code",
   "execution_count": 30,
   "metadata": {},
   "outputs": [
    {
     "data": {
      "text/plain": [
       "[2, 4, 6]"
      ]
     },
     "execution_count": 30,
     "metadata": {},
     "output_type": "execute_result"
    }
   ],
   "source": [
    "#8. Write a Python program to add two given lists using map and lambda.\n",
    "list1 = [1,2,3]\n",
    "list2 = [1,2,3]\n",
    "list(map(lambda a,b:a+b,list1,list2))"
   ]
  },
  {
   "cell_type": "code",
   "execution_count": 33,
   "metadata": {},
   "outputs": [
    {
     "data": {
      "text/plain": [
       "[13, 19]"
      ]
     },
     "execution_count": 33,
     "metadata": {},
     "output_type": "execute_result"
    }
   ],
   "source": [
    "#9. Write a Python program that stores numbers in a list which are divisible by nineteen or\n",
    "#thirteen from a given list.\n",
    "\n",
    "l = [13,19,23,34,56]\n",
    "\n",
    "divisible_by_13_19  = [i for i in l if i%13 == 0 or i%19 == 0]\n",
    "\n",
    "divisible_by_13_19 "
   ]
  },
  {
   "cell_type": "code",
   "execution_count": null,
   "metadata": {},
   "outputs": [],
   "source": []
  }
 ],
 "metadata": {
  "kernelspec": {
   "display_name": "Python 3",
   "language": "python",
   "name": "python3"
  },
  "language_info": {
   "codemirror_mode": {
    "name": "ipython",
    "version": 3
   },
   "file_extension": ".py",
   "mimetype": "text/x-python",
   "name": "python",
   "nbconvert_exporter": "python",
   "pygments_lexer": "ipython3",
   "version": "3.8.5"
  }
 },
 "nbformat": 4,
 "nbformat_minor": 4
}
